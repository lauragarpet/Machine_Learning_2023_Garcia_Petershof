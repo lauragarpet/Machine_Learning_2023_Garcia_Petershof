{
 "cells": [
  {
   "attachments": {},
   "cell_type": "markdown",
   "metadata": {},
   "source": [
    "## Hausarbeit 7\n",
    "• Modifizieren Sie das Modell so, dass es einen 5x5 Kernel verwendet <br>\n",
    "    1. Wie verändert sich dann die Anzahl der freien Parameter im Modell? <br>\n",
    "    2. Verbessert oder verschlechtert sich Overfitting? <br>\n",
    "    \n",
    "• Können Sie ein Bild finden, welches weder Vogel noch Flugzeug <br>\n",
    "enthält, von dem Netz aber mit mindestens 95% wahrscheinlichkeit \n",
    "als eines der beiden Objekte erkannt wird?\n",
    "\n",
    "\n",
    "<span style=\"color:red\">**Anmerkung: Die Beantwortung der Fragen finden Sie im Verlauf des Notebooks**</span>"
   ]
  },
  {
   "cell_type": "code",
   "execution_count": 17,
   "metadata": {},
   "outputs": [
    {
     "data": {
      "text/plain": [
       "<torch._C.Generator at 0x211b3ec0590>"
      ]
     },
     "execution_count": 17,
     "metadata": {},
     "output_type": "execute_result"
    }
   ],
   "source": [
    "# Laden der notwendigen Bibliotheken\n",
    "from torchvision import datasets, transforms\n",
    "import matplotlib.pyplot as plt\n",
    "import os\n",
    "import collections\n",
    "os.environ['KMP_DUPLICATE_LIB_OK']='True'\n",
    "import numpy as np\n",
    "import torch\n",
    "import torch.nn as nn\n",
    "import torch.optim as optim\n",
    "import torch.nn.functional as F\n",
    "import datetime \n",
    "import torch\n",
    "import time\n",
    "import random\n",
    "\n",
    "torch.set_printoptions(edgeitems=2)\n",
    "torch.manual_seed(123)"
   ]
  },
  {
   "cell_type": "code",
   "execution_count": 18,
   "metadata": {},
   "outputs": [],
   "source": [
    "# Definition der einzelnen Klassen\n",
    "class_names_bird_plane = ['airplane','automobile','bird','cat','deer',\n",
    "               'dog','frog','horse','ship','truck']"
   ]
  },
  {
   "cell_type": "code",
   "execution_count": 19,
   "metadata": {},
   "outputs": [
    {
     "name": "stdout",
     "output_type": "stream",
     "text": [
      "Files already downloaded and verified\n",
      "Files already downloaded and verified\n"
     ]
    }
   ],
   "source": [
    "# Laden des Datensatzes: Umwandlung in einen Tensor und Normalisierung der Daten\n",
    "data_path = '../data-unversioned/p1ch6/'\n",
    "\n",
    "# Trainingsdatensatz\n",
    "cifar10 = datasets.CIFAR10(\n",
    "    data_path, train=True, download=True,\n",
    "    transform=transforms.Compose([\n",
    "        transforms.ToTensor(),\n",
    "        transforms.Normalize((0.4915, 0.4823, 0.4468),\n",
    "                             (0.2470, 0.2435, 0.2616))\n",
    "    ]))\n",
    "\n",
    "# Validierungsdatensatz\n",
    "cifar10_val = datasets.CIFAR10(\n",
    "    data_path, train=False, download=True,\n",
    "    transform=transforms.Compose([\n",
    "        transforms.ToTensor(),\n",
    "        transforms.Normalize((0.4915, 0.4823, 0.4468),\n",
    "                             (0.2470, 0.2435, 0.2616))\n",
    "    ]))"
   ]
  },
  {
   "cell_type": "code",
   "execution_count": 20,
   "metadata": {},
   "outputs": [],
   "source": [
    "# Bildung eines neuen Datensatzes, nur mit Bird und Flugzeug Bildern\n",
    "label_map = {0: 0, 2: 1}\n",
    "class_names_bird_plane = ['airplane', 'bird']\n",
    "\n",
    "# Trainingsdatensatz\n",
    "cifar2 = [(img, label_map[label])\n",
    "          for img, label in cifar10\n",
    "          if label in [0, 2]]\n",
    "\n",
    "# Validierungsdatensatz\n",
    "cifar2_val = [(img, label_map[label])\n",
    "              for img, label in cifar10_val\n",
    "              if label in [0, 2]]"
   ]
  },
  {
   "attachments": {},
   "cell_type": "markdown",
   "metadata": {},
   "source": [
    "### 1. Aufgabe: Vergleich 5x5 und 3x3 Kernel\n",
    "\n",
    "#### a.) 3x3 Kernel:"
   ]
  },
  {
   "cell_type": "code",
   "execution_count": 21,
   "metadata": {},
   "outputs": [],
   "source": [
    "# Definition des Baseline-Modells:\n",
    "class Net(nn.Module):\n",
    "    def __init__(self):\n",
    "        super().__init__()\n",
    "        \n",
    "        # Definition eines Convolutional-Layers mit einem 3x3 Kernel\n",
    "        self.conv1 = nn.Conv2d(3, 16, kernel_size=3, padding=1)\n",
    "        self.conv2 = nn.Conv2d(16, 8, kernel_size=3, padding=1)\n",
    "        self.fc1 = nn.Linear(8 * 8 * 8, 32)\n",
    "        self.fc2 = nn.Linear(32, 2)\n",
    "        \n",
    "    def forward(self, x):\n",
    "        out = F.max_pool2d(torch.tanh(self.conv1(x)), 2)\n",
    "        out = F.max_pool2d(torch.tanh(self.conv2(out)), 2)\n",
    "        out = out.view(-1, 8 * 8 * 8)\n",
    "        out = torch.tanh(self.fc1(out))\n",
    "        out = self.fc2(out)\n",
    "        return out"
   ]
  },
  {
   "cell_type": "code",
   "execution_count": 22,
   "metadata": {},
   "outputs": [],
   "source": [
    "# Definition des Trainingloops\n",
    "def training_loop(n_epochs, optimizer, model, loss_fn, train_loader):\n",
    "    for epoch in range(1, n_epochs + 1):  \n",
    "        loss_train = 0.0\n",
    "        for imgs, labels in train_loader:  \n",
    "            \n",
    "            outputs = model(imgs)  \n",
    "            \n",
    "            loss = loss_fn(outputs, labels)  \n",
    "\n",
    "            optimizer.zero_grad()  \n",
    "            \n",
    "            loss.backward()  \n",
    "            \n",
    "            optimizer.step()  \n",
    "\n",
    "            loss_train += loss.item()  \n",
    "\n",
    "        if epoch == 1 or epoch % 10 == 0:\n",
    "            print('{} Epoch {}, Training loss {}'.format(\n",
    "                datetime.datetime.now(), epoch,\n",
    "                loss_train / len(train_loader))) "
   ]
  },
  {
   "cell_type": "code",
   "execution_count": 23,
   "metadata": {},
   "outputs": [
    {
     "name": "stdout",
     "output_type": "stream",
     "text": [
      "2023-06-02 14:48:19.422257 Epoch 1, Training loss 0.5803694548500571\n",
      "2023-06-02 14:48:38.914722 Epoch 10, Training loss 0.33222396576860147\n",
      "2023-06-02 14:49:00.907746 Epoch 20, Training loss 0.2911597882296629\n",
      "2023-06-02 14:49:50.982133 Epoch 30, Training loss 0.2659074995358279\n",
      "2023-06-02 14:50:14.538725 Epoch 40, Training loss 0.24671235917859777\n",
      "2023-06-02 14:50:36.141955 Epoch 50, Training loss 0.22851365050122996\n",
      "2023-06-02 14:50:57.585533 Epoch 60, Training loss 0.2139048953629603\n",
      "2023-06-02 14:51:18.704722 Epoch 70, Training loss 0.19706508678615473\n",
      "2023-06-02 14:51:45.603013 Epoch 80, Training loss 0.18136654946075123\n",
      "2023-06-02 14:52:09.125252 Epoch 90, Training loss 0.16724600268017714\n",
      "2023-06-02 14:52:32.133050 Epoch 100, Training loss 0.1532175787457615\n",
      "Die Anzahl der freien Parameter beträgt: 18090\n"
     ]
    }
   ],
   "source": [
    "# Trainieren des Modells\n",
    "train_loader = torch.utils.data.DataLoader(cifar2, batch_size=64,\n",
    "                                           shuffle=True) \n",
    "\n",
    "model3x3 = Net()  \n",
    "optimizer = optim.SGD(model3x3.parameters(), lr=1e-2)  \n",
    "loss_fn = nn.CrossEntropyLoss()  \n",
    "\n",
    "training_loop(  \n",
    "    n_epochs = 100,\n",
    "    optimizer = optimizer,\n",
    "    model = model3x3,\n",
    "    loss_fn = loss_fn,\n",
    "    train_loader = train_loader,\n",
    ")\n",
    "\n",
    "print('Die Anzahl der freien Parameter beträgt:', sum(p.numel() for p in model3x3.parameters()))"
   ]
  },
  {
   "cell_type": "code",
   "execution_count": 24,
   "metadata": {},
   "outputs": [
    {
     "name": "stdout",
     "output_type": "stream",
     "text": [
      "Accuracy train: 0.92\n",
      "Accuracy val: 0.88\n"
     ]
    }
   ],
   "source": [
    "# Berechnung der Genauigkeit des Modells für die Trainings und Validierungsdaten:\n",
    "train_loader = torch.utils.data.DataLoader(cifar2, batch_size=64,\n",
    "                                           shuffle=False)\n",
    "val_loader = torch.utils.data.DataLoader(cifar2_val, batch_size=64,\n",
    "                                         shuffle=False)\n",
    "all_acc_dict = collections.OrderedDict()\n",
    "\n",
    "def validate(model, train_loader, val_loader):\n",
    "    for name, loader in [(\"train\", train_loader), (\"val\", val_loader)]:\n",
    "        correct = 0\n",
    "        total = 0\n",
    "\n",
    "        with torch.no_grad():  \n",
    "            for imgs, labels in loader:\n",
    "                outputs = model(imgs)\n",
    "                _, predicted = torch.max(outputs, dim=1)\n",
    "                total += labels.shape[0] \n",
    "                correct += int((predicted == labels).sum())  \n",
    "\n",
    "        print(\"Accuracy {}: {:.2f}\".format(name , correct / total))\n",
    "\n",
    "validate(model3x3, train_loader, val_loader)\n"
   ]
  },
  {
   "attachments": {},
   "cell_type": "markdown",
   "metadata": {},
   "source": [
    "#### b.) 5x5 Kernel"
   ]
  },
  {
   "cell_type": "code",
   "execution_count": 26,
   "metadata": {},
   "outputs": [
    {
     "name": "stdout",
     "output_type": "stream",
     "text": [
      "2023-06-02 14:54:43.942449 Epoch 1, Training loss 0.5661669191281506\n",
      "2023-06-02 14:55:07.822064 Epoch 10, Training loss 0.32106253960330017\n",
      "2023-06-02 14:55:34.801543 Epoch 20, Training loss 0.2821221894519344\n",
      "2023-06-02 14:56:03.682806 Epoch 30, Training loss 0.24960062994508986\n",
      "2023-06-02 14:56:35.604715 Epoch 40, Training loss 0.2233744926608292\n",
      "2023-06-02 14:57:07.467716 Epoch 50, Training loss 0.2014970294893927\n",
      "2023-06-02 14:57:39.367414 Epoch 60, Training loss 0.17906245788571182\n",
      "2023-06-02 14:58:07.289256 Epoch 70, Training loss 0.15664368816859023\n",
      "2023-06-02 14:58:34.290994 Epoch 80, Training loss 0.13874214818807923\n",
      "2023-06-02 14:59:01.159905 Epoch 90, Training loss 0.118633986943087\n",
      "2023-06-02 14:59:27.752840 Epoch 100, Training loss 0.10244492930211839\n",
      "Die Anzahl der freien Parameter mit dem 5x5 Kernel beträgt: 20906\n"
     ]
    }
   ],
   "source": [
    "# Definition des Baseline-Modells:\n",
    "class Net(nn.Module):\n",
    "    def __init__(self):\n",
    "        super().__init__()\n",
    "        \n",
    "        # Definition eines Convolutional-Layers mit einem 3x3 Kernel\n",
    "        self.conv1 = nn.Conv2d(3, 16, kernel_size=5, padding=2)\n",
    "        self.conv2 = nn.Conv2d(16, 8, kernel_size=5, padding=2)\n",
    "        self.fc1 = nn.Linear(8 * 8 * 8, 32)\n",
    "        self.fc2 = nn.Linear(32, 2)\n",
    "        \n",
    "    def forward(self, x):\n",
    "        out = F.max_pool2d(torch.tanh(self.conv1(x)), 2)\n",
    "        out = F.max_pool2d(torch.tanh(self.conv2(out)), 2)\n",
    "        out = out.view(-1, 8 * 8 * 8)\n",
    "        out = torch.tanh(self.fc1(out))\n",
    "        out = self.fc2(out)\n",
    "        return out\n",
    "\n",
    "# Trainieren des Modells\n",
    "train_loader = torch.utils.data.DataLoader(cifar2, batch_size=64,\n",
    "                                           shuffle=True) \n",
    "\n",
    "model5x5 = Net()  \n",
    "optimizer = optim.SGD(model5x5.parameters(), lr=1e-2)  \n",
    "loss_fn = nn.CrossEntropyLoss()  \n",
    "\n",
    "training_loop(  \n",
    "    n_epochs = 100,\n",
    "    optimizer = optimizer,\n",
    "    model = model5x5,\n",
    "    loss_fn = loss_fn,\n",
    "    train_loader = train_loader,\n",
    ")\n",
    "\n",
    "print('Die Anzahl der freien Parameter mit dem 5x5 Kernel beträgt:', sum(p.numel() for p in model5x5.parameters()))"
   ]
  },
  {
   "cell_type": "code",
   "execution_count": 27,
   "metadata": {},
   "outputs": [
    {
     "name": "stdout",
     "output_type": "stream",
     "text": [
      "Accuracy train: 0.96\n",
      "Accuracy val: 0.88\n"
     ]
    }
   ],
   "source": [
    "# Berechnung der Genauigkeit des Modells für die Trainings und Validierungsdaten:\n",
    "train_loader = torch.utils.data.DataLoader(cifar2, batch_size=64,\n",
    "                                           shuffle=False)\n",
    "val_loader = torch.utils.data.DataLoader(cifar2_val, batch_size=64,\n",
    "                                         shuffle=False)\n",
    "all_acc_dict = collections.OrderedDict()\n",
    "\n",
    "def validate(model5x5, train_loader, val_loader):\n",
    "    for name, loader in [(\"train\", train_loader), (\"val\", val_loader)]:\n",
    "        correct = 0\n",
    "        total = 0\n",
    "\n",
    "        with torch.no_grad():  \n",
    "            for imgs, labels in loader:\n",
    "                outputs = model5x5(imgs)\n",
    "                _, predicted = torch.max(outputs, dim=1) \n",
    "                total += labels.shape[0]  \n",
    "                correct += int((predicted == labels).sum()) \n",
    "\n",
    "        print(\"Accuracy {}: {:.2f}\".format(name , correct / total))\n",
    "\n",
    "validate(model5x5, train_loader, val_loader)"
   ]
  },
  {
   "attachments": {},
   "cell_type": "markdown",
   "metadata": {},
   "source": [
    "#### 1. Wie verändert sich dann die Anzahl der freien Parameter im Modell? <br>\n",
    "Freie Parameter (3x3 Kernel) = 18.090\n",
    "Freie Parameter (5x5 Kernel) = 20.906\n",
    "Die Anzahl der freien Parameter steigt mit der Größe des Kernels an. \n",
    "\n",
    "#### 2. Verbessert oder verschlechtert sich Overfitting? <br>\n",
    "Durch den 5x5-Kernel verschlechtert sich das Overfitting. Dies ist daran erkenntlich, dass die Diskrepanz zwischen der Genauigkeit des Modells auf den Trainingsdaten und den Validierungsdaten von 0,04 auf 0,08 ansteigt. Zusätzlich nähert sich die Genauigkeit des Modells auf den Trainingsdaten fast 100 % an, was darauf hinweist, dass das Modell nahezu perfekt auf die Trainingsdaten trainiert ist."
   ]
  },
  {
   "attachments": {},
   "cell_type": "markdown",
   "metadata": {},
   "source": [
    "#### 2.Aufgabe: Suche nach einem Bild, welches weder Vogel noch Flugzeug ist, aber zu 95% Wahrscheinlichkeit als eines der beiden Objekte erkennt wird:"
   ]
  },
  {
   "cell_type": "code",
   "execution_count": 45,
   "metadata": {},
   "outputs": [
    {
     "name": "stdout",
     "output_type": "stream",
     "text": [
      "Files already downloaded and verified\n"
     ]
    },
    {
     "data": {
      "image/png": "[encoded data removed]",
      "text/plain": [
       "<Figure size 640x480 with 1 Axes>"
      ]
     },
     "metadata": {},
     "output_type": "display_data"
    }
   ],
   "source": [
    "# Laden des trainierten Modells zur Vorhersage\n",
    "model = model3x3\n",
    "model.eval()\n",
    "\n",
    "# Laden des CIFAR-10-Validierungsdatensatzes ohne Normalisierung\n",
    "cifar10_val = datasets.CIFAR10(data_path, train=False, download=True, transform=\n",
    "                                transforms.Compose([transforms.ToTensor(),]))\n",
    "\n",
    "\n",
    "# Reduzierung des Datensatzes auf die Klassen, mit denen das Modell nicht trainiert wurde. \n",
    "label_map_without_bird_plane = {1: 0, 3: 1, 4: 2, 5: 3, 6: 4, 7: 5, 8: 6, 9: 7}\n",
    "class_names_wihtout_bird_plane = ['automobile', 'cat', 'deer', 'dog', 'frog', 'horse', 'ship', 'truck']\n",
    "cifar10_without_bird_plane_val = [(img, label_map_without_bird_plane[label]) for img, label in cifar10_val if label in [1, 3, 4, 5, 6, 7, 8, 9]]\n",
    "\n",
    "# Zufällige Auswahl eines Bildes aus dem reduzierten CIFAR10-Datensatz\n",
    "index = random.randint(0, len(cifar10_without_bird_plane_val)-1)\n",
    "image, label = cifar10_without_bird_plane_val[index]\n",
    "\n",
    "# Durchführung der Vorhersage mit dem selektierten Bild und dem trainierten Modell. \n",
    "output = model(image.unsqueeze(0))\n",
    "def softmax(x):\n",
    "    return torch.exp(x) / torch.exp(x).sum()\n",
    "\n",
    "probabilities = softmax(output)[0]\n",
    "\n",
    "# Überprüfen der Wahrscheinlichkeiten für die Klassen \"Flugzeug\" und \"Vogel\"\n",
    "Prob_airplane = probabilities[0]\n",
    "Prob_bird = probabilities[1]\n",
    "\n",
    "# Bestimmung der eigentlichen Klasse des Bildes. \n",
    "Original_class = class_names_wihtout_bird_plane[label]\n",
    "\n",
    "# Plotten des Bildes\n",
    "plt.imshow(transforms.ToPILImage()(image))\n",
    "plt.axis('off')\n",
    "plt.title(f'Original Class: {class_names_wihtout_bird_plane[label]}, Prediction: airplane: {Prob_airplane:.2f}, bird: {Prob_bird:.2f}')\n",
    "plt.show()"
   ]
  }
 ],
 "metadata": {
  "celltoolbar": "Tags",
  "kernelspec": {
   "display_name": "Python 3",
   "language": "python",
   "name": "python3"
  },
  "language_info": {
   "codemirror_mode": {
    "name": "ipython",
    "version": 3
   },
   "file_extension": ".py",
   "mimetype": "text/x-python",
   "name": "python",
   "nbconvert_exporter": "python",
   "pygments_lexer": "ipython3",
   "version": "3.10.9"
  }
 },
 "nbformat": 4,
 "nbformat_minor": 2
}
