{
 "cells": [
  {
   "attachments": {},
   "cell_type": "markdown",
   "metadata": {},
   "source": [
    "## Hausarbeit - Abgabe 3 - Aufgabe 1\n",
    "• Implementieren Sie das in der Vorlesung gezeigte “Gradient Descent” \n",
    "Beispiel in numpy\n",
    "\n",
    "• Implementieren Sie eine Ausgleichsgerade mit dem Verfahren der \n",
    "kleinsten Quadrate für die in der Vorlesung gezeigten Daten\n",
    "### Laden der nötigen Bibliotheken"
   ]
  },
  {
   "cell_type": "code",
   "execution_count": 1,
   "metadata": {},
   "outputs": [],
   "source": [
    "import numpy as np\n",
    "import os\n",
    "os.environ['KMP_DUPLICATE_LIB_OK']='True'\n",
    "import matplotlib.pyplot as plt "
   ]
  },
  {
   "attachments": {},
   "cell_type": "markdown",
   "metadata": {},
   "source": [
    "### 1. Aufgabe:\n",
    "Implementieren Sie das in der Vorlesung gezeigte “Gradient Descent” \n",
    "Beispiel in numpy"
   ]
  },
  {
   "cell_type": "code",
   "execution_count": 2,
   "metadata": {},
   "outputs": [],
   "source": [
    "### Gradient Descent: \n",
    "\n",
    "# 1.Schritt: Einlesen der Daten: \n",
    "values = np.loadtxt('vl5_data.csv')\n",
    "\n",
    "# 2.Schritt: Aufteilen der Daten in die gegebenen Einheiten\n",
    "t_u = np.array(values[:,1])   # temperature in Celsius\n",
    "t_c = np.array(values[:,0])   # unknown units"
   ]
  },
  {
   "cell_type": "code",
   "execution_count": 3,
   "metadata": {},
   "outputs": [],
   "source": [
    "# 3.Schritt: Definition der Funktionen\n",
    "def model(t_u, w, b):\n",
    "    return w * t_u + b"
   ]
  },
  {
   "cell_type": "code",
   "execution_count": 4,
   "metadata": {},
   "outputs": [],
   "source": [
    "# 4.Schritt: Definition der Ableitungen\n",
    "### DERIVATIVES ###\n",
    "def loss_fn(t_p, t_c):\n",
    "    squared_diffs = (t_p - t_c)**2\n",
    "    return squared_diffs.mean()\n",
    "\n",
    "def dloss_fn(t_p, t_c):\n",
    "    dsq_diffs=2* (t_p - t_c) / np.size(t_p, 0)\n",
    "    return dsq_diffs\n",
    "\n",
    "def dmodel_dw(t_u, w, b):\n",
    "    return t_u\n",
    "\n",
    "def dmodel_db(t_u, w, b):\n",
    "    return 1.0"
   ]
  },
  {
   "cell_type": "code",
   "execution_count": 5,
   "metadata": {},
   "outputs": [],
   "source": [
    "# 5.Schritt: Berechnung des Gradientens und des Training Loops\n",
    "## Definition Gradient\n",
    "def grad_fn(t_u, t_c, t_p, w, b):\n",
    "    dloss_dtp = dloss_fn(t_p, t_c)\n",
    "    dloss_dw = dloss_dtp * dmodel_dw(t_u, w, b)\n",
    "    dloss_db = dloss_dtp * dmodel_db(t_u, w, b)\n",
    "    return np.stack([dloss_dw.sum(), dloss_db.sum()])\n",
    "\n",
    "## Definition Training Loop\n",
    "def training_loop(n_epochs, learning_rate, params, t_u, t_c):\n",
    "    for epoch in range(1, n_epochs + 1):\n",
    "\n",
    "        w, b = params\n",
    "        t_p = model(t_u, w, b)\n",
    "        loss = loss_fn(t_p, t_c)\n",
    "        grad = grad_fn(t_u, t_c, t_p, w, b)\n",
    "        params = params - learning_rate * grad\n",
    "\n",
    "        # Ausgabe der einzelnen Epochen\n",
    "        # print('Epoch %d, Loss %f' % (epoch, float(loss)))\n",
    "    return params"
   ]
  },
  {
   "cell_type": "code",
   "execution_count": 6,
   "metadata": {},
   "outputs": [],
   "source": [
    "# 6.Schritt: Durchführung der Berechnung der Parameter für die Gerade\n",
    "# Normierung der Werte t_u\n",
    "t_un = 0.1 * t_u\n",
    "\n",
    "\n",
    "params = training_loop(\n",
    "    n_epochs = 5000,\n",
    "    learning_rate = 1e-2,\n",
    "    params = np.array([1.0, 0.0]),\n",
    "    t_u = t_un,\n",
    "    t_c = t_c)\n",
    "\n",
    "params\n",
    "\n",
    "# Berechnung des Models\n",
    "t_p = model(t_un, *params)"
   ]
  },
  {
   "cell_type": "code",
   "execution_count": 7,
   "metadata": {},
   "outputs": [
    {
     "data": {
      "text/plain": [
       "Text(0, 0.5, 'Temperature (°Celsius)')"
      ]
     },
     "execution_count": 7,
     "metadata": {},
     "output_type": "execute_result"
    },
    {
     "data": {
      "image/png": "[encoded data removed]",
      "text/plain": [
       "<Figure size 640x480 with 1 Axes>"
      ]
     },
     "metadata": {},
     "output_type": "display_data"
    }
   ],
   "source": [
    "# 7.Schritt: Darstellung der Geraden zusammen mit den Daten\n",
    "fig = plt.figure()\n",
    "plt.plot(t_u, t_p)\n",
    "plt.plot(t_u, t_c, 'x')\n",
    "plt.xlabel(\"Temperature (°Fahrenheit)\")\n",
    "plt.ylabel(\"Temperature (°Celsius)\")"
   ]
  },
  {
   "attachments": {},
   "cell_type": "markdown",
   "metadata": {},
   "source": [
    "## Hausarbeit - Abgabe 3 - Aufgabe 2\n",
    "\n",
    "### 2. Aufgabe\n",
    "Implementieren Sie eine Ausgleichsgerade mit dem Verfahren der \n",
    "kleinsten Quadrate für die in der Vorlesung gezeigten Daten"
   ]
  },
  {
   "cell_type": "code",
   "execution_count": null,
   "metadata": {},
   "outputs": [],
   "source": []
  }
 ],
 "metadata": {
  "kernelspec": {
   "display_name": "base",
   "language": "python",
   "name": "python3"
  },
  "language_info": {
   "codemirror_mode": {
    "name": "ipython",
    "version": 3
   },
   "file_extension": ".py",
   "mimetype": "text/x-python",
   "name": "python",
   "nbconvert_exporter": "python",
   "pygments_lexer": "ipython3",
   "version": "3.10.9"
  },
  "orig_nbformat": 4
 },
 "nbformat": 4,
 "nbformat_minor": 2
}
