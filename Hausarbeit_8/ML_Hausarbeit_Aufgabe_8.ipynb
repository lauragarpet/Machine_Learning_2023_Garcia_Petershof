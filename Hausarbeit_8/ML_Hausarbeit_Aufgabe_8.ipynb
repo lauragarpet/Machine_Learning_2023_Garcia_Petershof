{
 "cells": [
  {
   "attachments": {},
   "cell_type": "markdown",
   "metadata": {},
   "source": [
    "- Nutzung verschiedener Residual Layers\n",
    "- Skip Layer\n",
    "- Nutzung nur des B(3,3)-Block\n",
    "- Mit der tiefe des KNN: Overfitting, freie Parameter, lange Trainingsdauer\n",
    "--> Verbreiterung des Netzwerks anstatt dieses tiefer zu machen. \n",
    "--> Feature wurden mit k multipliziert --> Anzahl der Kernel pro Dimension nimmt zu. \n",
    "--> 40 = 40 B(3,3)-Blöcke hintereinander geschaltet. \n",
    "- Anzahl der freien Parameter bleibt gleich. \n",
    "- Dropout: Zufällig werden einzelne Werte in den Layern = 0 gesetzt --> kann übertraining verbessern\n",
    "--> Kann man vernachlässigen. Weil es kaum einen Unterschied gemacht hat. \n",
    "- WRN: Wide Residual Network\n",
    "- 22: Tiefe\n",
    "- nächste Zahl: widering Faktor: k (Mit denen die Anzahl der Kernel multipliziert wird)\n",
    "- Es soll eine Variante genommen werden. \n",
    "--> Trainieren des Modells für Vögel und Flugzeuge\n",
    "- Schauen auf welche Genauigkeiten man kommt. "
   ]
  },
  {
   "attachments": {},
   "cell_type": "markdown",
   "metadata": {},
   "source": [
    "### Hausarbeit 8 \n",
    "\n",
    "• Modifizieren Sie das ResNet Beispiel aus dem Buch so, dass es dem \n",
    "Netzwerk aus dem Paper “Wide Residual Networks” von Zagoruyko et al. \n",
    "entspricht <br>\n",
    "• Verwenden Sie die gleichen Augmentation Methods wie in dem Paper \n",
    "(RandomHorizontalFlip und RandomCrop)<br>\n",
    "• Vergleichen Sie die Accuracy (Erkennungsraten) für Trainings- und \n",
    "Validierungsdaten mit dem Beispiel aus dem Buch<br>\n",
    "• Das Netzwerk dabei nur für die Klassifikation von Vögeln und Flugzeugen \n",
    "trainieren.<br>\n",
    "• Verwenden Sie 28 B(3,3) Blöcke mit k=2, [WRN-28-2-B(3,3)]<br>"
   ]
  },
  {
   "attachments": {},
   "cell_type": "markdown",
   "metadata": {},
   "source": [
    "#### 1.Schritt: Laden der notwendigen Bibliotheken"
   ]
  },
  {
   "cell_type": "code",
   "execution_count": 4,
   "metadata": {},
   "outputs": [
    {
     "data": {
      "text/plain": [
       "<torch._C.Generator at 0x2066073dcf0>"
      ]
     },
     "execution_count": 4,
     "metadata": {},
     "output_type": "execute_result"
    }
   ],
   "source": [
    "# Laden der notwendigen Bibliotheken\n",
    "from torchvision import datasets, transforms\n",
    "import matplotlib.pyplot as plt\n",
    "import os\n",
    "import collections\n",
    "os.environ['KMP_DUPLICATE_LIB_OK']='True'\n",
    "import numpy as np\n",
    "import torch\n",
    "import torch.nn as nn\n",
    "import torch.optim as optim\n",
    "import torch.nn.functional as F\n",
    "import datetime \n",
    "import torch\n",
    "import time\n",
    "import random\n",
    "\n",
    "torch.set_printoptions(edgeitems=2)\n",
    "torch.manual_seed(123)"
   ]
  },
  {
   "attachments": {},
   "cell_type": "markdown",
   "metadata": {},
   "source": [
    "#### 2.Schritt: Laden der Bilddaten aus dem CIFAR10-Datensatz. Klassen: Vögel und Flugzeuge"
   ]
  },
  {
   "cell_type": "code",
   "execution_count": 5,
   "metadata": {},
   "outputs": [
    {
     "name": "stdout",
     "output_type": "stream",
     "text": [
      "Files already downloaded and verified\n",
      "Files already downloaded and verified\n"
     ]
    }
   ],
   "source": [
    "# Definition der einzelnen Klassen\n",
    "class_names_bird_plane = ['airplane','automobile','bird','cat','deer',\n",
    "               'dog','frog','horse','ship','truck']\n",
    "\n",
    "# Laden des Datensatzes: Umwandlung in einen Tensor und Normalisierung der Daten\n",
    "data_path = '../data-unversioned/p1ch6/'\n",
    "\n",
    "# Trainingsdatensatz\n",
    "cifar10 = datasets.CIFAR10(\n",
    "    data_path, train=True, download=True,\n",
    "    transform=transforms.Compose([\n",
    "        transforms.ToTensor(),\n",
    "        transforms.Normalize((0.4915, 0.4823, 0.4468),\n",
    "                             (0.2470, 0.2435, 0.2616))\n",
    "    ]))\n",
    "\n",
    "# Validierungsdatensatz\n",
    "cifar10_val = datasets.CIFAR10(\n",
    "    data_path, train=False, download=True,\n",
    "    transform=transforms.Compose([\n",
    "        transforms.ToTensor(),\n",
    "        transforms.Normalize((0.4915, 0.4823, 0.4468),\n",
    "                             (0.2470, 0.2435, 0.2616))\n",
    "    ]))\n",
    "\n",
    "# Bildung eines neuen Datensatzes, nur mit Bird und Flugzeug Bildern\n",
    "label_map = {0: 0, 2: 1}\n",
    "class_names_bird_plane = ['airplane', 'bird']\n",
    "\n",
    "# Trainingsdatensatz\n",
    "cifar2 = [(img, label_map[label])\n",
    "          for img, label in cifar10\n",
    "          if label in [0, 2]]\n",
    "\n",
    "# Validierungsdatensatz\n",
    "cifar2_val = [(img, label_map[label])\n",
    "              for img, label in cifar10_val\n",
    "              if label in [0, 2]]"
   ]
  },
  {
   "attachments": {},
   "cell_type": "markdown",
   "metadata": {},
   "source": [
    "#### 3.Schritt: Definition des ursprünglichen Modells mit dem 3x3-Kernel:\n"
   ]
  },
  {
   "cell_type": "code",
   "execution_count": 6,
   "metadata": {},
   "outputs": [
    {
     "name": "stdout",
     "output_type": "stream",
     "text": [
      "2023-06-09 20:49:18.079073 Epoch 1, Training loss 0.5803694548500571\n",
      "2023-06-09 20:49:38.944224 Epoch 10, Training loss 0.33222396576860147\n",
      "Accuracy train: 0.85\n",
      "Accuracy val: 0.84\n"
     ]
    }
   ],
   "source": [
    "# Definition des Baseline-Modells:\n",
    "class Net(nn.Module):\n",
    "    def __init__(self):\n",
    "        super().__init__()\n",
    "        \n",
    "        # Definition eines Convolutional-Layers mit einem 3x3 Kernel\n",
    "        self.conv1 = nn.Conv2d(3, 16, kernel_size=3, padding=1)\n",
    "        self.conv2 = nn.Conv2d(16, 8, kernel_size=3, padding=1)\n",
    "        self.fc1 = nn.Linear(8 * 8 * 8, 32)\n",
    "        self.fc2 = nn.Linear(32, 2)\n",
    "        \n",
    "    def forward(self, x):\n",
    "        out = F.max_pool2d(torch.tanh(self.conv1(x)), 2)\n",
    "        out = F.max_pool2d(torch.tanh(self.conv2(out)), 2)\n",
    "        out = out.view(-1, 8 * 8 * 8)\n",
    "        out = torch.tanh(self.fc1(out))\n",
    "        out = self.fc2(out)\n",
    "        return out\n",
    "    \n",
    "# Definition des Trainingloops\n",
    "def training_loop(n_epochs, optimizer, model, loss_fn, train_loader):\n",
    "    for epoch in range(1, n_epochs + 1):  \n",
    "        loss_train = 0.0\n",
    "        for imgs, labels in train_loader:  \n",
    "            outputs = model(imgs)  \n",
    "            loss = loss_fn(outputs, labels)  \n",
    "            optimizer.zero_grad()  \n",
    "            loss.backward()  \n",
    "            optimizer.step()  \n",
    "            loss_train += loss.item()  \n",
    "\n",
    "        if epoch == 1 or epoch % 10 == 0:\n",
    "            print('{} Epoch {}, Training loss {}'.format(\n",
    "                datetime.datetime.now(), epoch,\n",
    "                loss_train / len(train_loader))) \n",
    "            \n",
    "# Trainieren des Modells\n",
    "train_loader = torch.utils.data.DataLoader(cifar2, batch_size=64,\n",
    "                                           shuffle=True) \n",
    "\n",
    "model3x3 = Net()  \n",
    "optimizer = optim.SGD(model3x3.parameters(), lr=1e-2)  \n",
    "loss_fn = nn.CrossEntropyLoss()  \n",
    "\n",
    "training_loop(  \n",
    "    n_epochs = 10,\n",
    "    optimizer = optimizer,\n",
    "    model = model3x3,\n",
    "    loss_fn = loss_fn,\n",
    "    train_loader = train_loader,\n",
    ")\n",
    "\n",
    "# Berechnung der Genauigkeit des Modells für die Trainings und Validierungsdaten:\n",
    "train_loader = torch.utils.data.DataLoader(cifar2, batch_size=64,\n",
    "                                           shuffle=False)\n",
    "val_loader = torch.utils.data.DataLoader(cifar2_val, batch_size=64,\n",
    "                                         shuffle=False)\n",
    "all_acc_dict = collections.OrderedDict()\n",
    "\n",
    "def validate(model, train_loader, val_loader):\n",
    "    for name, loader in [(\"train\", train_loader), (\"val\", val_loader)]:\n",
    "        correct = 0\n",
    "        total = 0\n",
    "\n",
    "        with torch.no_grad():  \n",
    "            for imgs, labels in loader:\n",
    "                outputs = model(imgs)\n",
    "                _, predicted = torch.max(outputs, dim=1)\n",
    "                total += labels.shape[0] \n",
    "                correct += int((predicted == labels).sum())  \n",
    "\n",
    "        print(\"Accuracy {}: {:.2f}\".format(name , correct / total))\n",
    "\n",
    "validate(model3x3, train_loader, val_loader)"
   ]
  }
 ],
 "metadata": {
  "kernelspec": {
   "display_name": "base",
   "language": "python",
   "name": "python3"
  },
  "language_info": {
   "codemirror_mode": {
    "name": "ipython",
    "version": 3
   },
   "file_extension": ".py",
   "mimetype": "text/x-python",
   "name": "python",
   "nbconvert_exporter": "python",
   "pygments_lexer": "ipython3",
   "version": "3.10.9"
  },
  "orig_nbformat": 4
 },
 "nbformat": 4,
 "nbformat_minor": 2
}
